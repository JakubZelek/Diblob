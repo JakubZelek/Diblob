{
 "cells": [
  {
   "cell_type": "code",
   "execution_count": 1,
   "id": "f17ff30a",
   "metadata": {},
   "outputs": [],
   "source": [
    "from diblob.digraph_manager import DigraphManager\n",
    "\n",
    "digraph_manager = DigraphManager(\n",
    "    {\n",
    "        \"B0\": {\n",
    "            \"S\": [\"1\"],\n",
    "            \"1\": [\"2\", \"3\", \"4\"],\n",
    "            \"T\": [],\n",
    "            \"6\": [\"1\"],\n",
    "            \"4\": [\"5\"],\n",
    "            \"3\": [\"5\"],\n",
    "            \"5\": [\"6\", \"T\"],\n",
    "            \"2\": [\"5\"],\n",
    "        }\n",
    "    }\n",
    ")"
   ]
  },
  {
   "cell_type": "code",
   "execution_count": 2,
   "id": "cff021bf",
   "metadata": {},
   "outputs": [
    {
     "name": "stdout",
     "output_type": "stream",
     "text": [
      "['S', '1', '2', '5', '6', '1', '2', '5', 'T']\n",
      "['S', '1', '2', '5', 'T']\n",
      "['S', '1', '3', '5', 'T']\n",
      "['S', '1', '4', '5', 'T']\n"
     ]
    }
   ],
   "source": [
    "from testing_criterions.NodeCoverage import NodeCoverage\n",
    "\n",
    "node_coverage = NodeCoverage(digraph_manager)\n",
    "for test_case in node_coverage.get_test_cases():\n",
    "    print(test_case)"
   ]
  },
  {
   "cell_type": "code",
   "execution_count": 3,
   "id": "c2012bf1",
   "metadata": {},
   "outputs": [
    {
     "name": "stdout",
     "output_type": "stream",
     "text": [
      "Min number of test cases: [['S', '1', '3', '5', '6', '1', '2', '5', '6', '1', '4', '5', 'T']]\n",
      "Min total cost: [['S', '1', '3', '5', 'T'], ['S', '1', '2', '5', '6', '1', '4', '5', 'T']]\n",
      "Set number of test cases (3): [['S', '1', '3', '5', 'T'], ['S', '1', '4', '5', 'T'], ['S', '1', '2', '5', '6', '1', '4', '5', 'T']]\n"
     ]
    }
   ],
   "source": [
    "from testing_criterions.EdgeCoverage import EdgeCoverage\n",
    "\n",
    "edge_coverage = EdgeCoverage(digraph_manager)\n",
    "\n",
    "test_cases = edge_coverage.get_test_cases_minimal_number_of_test_cases(\n",
    "    cost_function={(\"5\", \"6\"): 10, (\"6\", \"1\"): 10}, default_cost=1\n",
    ")\n",
    "print(\"Min number of test cases:\", test_cases)\n",
    "test_cases = edge_coverage.get_test_cases_minimal_total_cost(\n",
    "    cost_function={(\"5\", \"6\"): 10, (\"6\", \"1\"): 10}, default_cost=1\n",
    ")\n",
    "print(\"Min total cost:\",test_cases)\n",
    "test_cases = edge_coverage.get_test_cases_set_number_of_test_cases(\n",
    "    cost_function={(\"5\", \"6\"): 10, (\"6\", \"1\"): 10}, default_cost=1, k=3\n",
    ")\n",
    "print(\"Set number of test cases (3):\",test_cases)"
   ]
  },
  {
   "cell_type": "code",
   "execution_count": 4,
   "id": "077bedf1",
   "metadata": {},
   "outputs": [
    {
     "name": "stdout",
     "output_type": "stream",
     "text": [
      "Min number of test cases:\n",
      "['S', '1', '2', '5', '6', '1', '2', '5', 'T']\n",
      "['S', '1', '3', '5', '6', '1', '3', '5', 'T']\n",
      "['S', '1', '4', '5', '6', '1', '4', '5', 'T']\n",
      "Min total cost:\n",
      "['S', '1', '2', '5', '6', '1', '2', '5', 'T']\n",
      "['S', '1', '3', '5', '6', '1', '3', '5', 'T']\n",
      "['S', '1', '4', '5', '6', '1', '4', '5', 'T']\n",
      "Set number of test cases (3):\n",
      "['S', '1', '2', '5', '6', '1', '2', '5', 'T']\n",
      "['S', '1', '3', '5', '6', '1', '3', '5', 'T']\n",
      "['S', '1', '4', '5', 'T']\n",
      "['S', '1', '4', '5', 'T']\n",
      "['S', '1', '4', '5', '6', '1', '4', '5', 'T']\n"
     ]
    }
   ],
   "source": [
    "from testing_criterions.NSwitchCoverage import NSwitchCoverage\n",
    "\n",
    "n_switch_coverage = NSwitchCoverage(digraph_manager)\n",
    "\n",
    "test_cases = n_switch_coverage.get_test_cases_minimal_number_of_test_cases(\n",
    "    cost_function={(\"5\", \"6\"): 10, (\"6\", \"1\"): 10}, default_cost=1\n",
    ")\n",
    "print(\"Min number of test cases:\")\n",
    "for ts in test_cases:\n",
    "    print(ts)\n",
    "\n",
    "test_cases = n_switch_coverage.get_test_cases_minimal_total_cost(\n",
    "    cost_function={(\"5\", \"6\"): 10, (\"6\", \"1\"): 10}, default_cost=1\n",
    ")\n",
    "print(\"Min total cost:\")\n",
    "for ts in test_cases:\n",
    "    print(ts)\n",
    "\n",
    "test_cases = n_switch_coverage.get_test_cases_set_number_of_test_cases(\n",
    "    cost_function={(\"5\", \"6\"): 10, (\"6\", \"1\"): 10}, default_cost=1, k=5\n",
    ")\n",
    "print(\"Set number of test cases (3):\")\n",
    "for ts in test_cases:\n",
    "    print(ts)"
   ]
  },
  {
   "cell_type": "code",
   "execution_count": 5,
   "id": "4d755ad8",
   "metadata": {},
   "outputs": [
    {
     "name": "stdout",
     "output_type": "stream",
     "text": [
      "max_number_of_cycles_in_single_test_case=1\n",
      "['S', '1', '2', '5', '6', '1', '2', '5', 'T']\n",
      "['S', '1', '3', '5', '6', '1', '2', '5', 'T']\n",
      "['S', '1', '4', '5', '6', '1', '2', '5', 'T']\n",
      "\n",
      "max_number_of_cycles_in_single_test_case=5\n",
      "['S', '1', '2', '5', '6', '1', '3', '5', '6', '1', '4', '5', '6', '1', '2', '5', 'T']\n"
     ]
    }
   ],
   "source": [
    "from testing_criterions.SimpleCycleCoverage import SimpleCycleCoverage\n",
    "\n",
    "simple_cycle = SimpleCycleCoverage(digraph_manager)\n",
    "\n",
    "print(\"max_number_of_cycles_in_single_test_case=1\")\n",
    "for test_case in simple_cycle.get_test_cases(max_number_of_cycles_in_single_test_case=1):\n",
    "   print(test_case)\n",
    "\n",
    "print()\n",
    "print(\"max_number_of_cycles_in_single_test_case=5\")\n",
    "for test_case in simple_cycle.get_test_cases(max_number_of_cycles_in_single_test_case=5):\n",
    "   print(test_case)\n"
   ]
  },
  {
   "cell_type": "code",
   "execution_count": 6,
   "id": "4bf4c897",
   "metadata": {},
   "outputs": [
    {
     "name": "stdout",
     "output_type": "stream",
     "text": [
      "max_number_of_simple_paths_in_single_test_case=1\n",
      "['S', '1', '2', '5', '6', '1', '2', '5', 'T']\n",
      "['S', '1', '2', '5', 'T']\n",
      "['S', '1', '3', '5', '6', '1', '2', '5', 'T']\n",
      "['S', '1', '3', '5', 'T']\n",
      "['S', '1', '4', '5', '6', '1', '2', '5', 'T']\n",
      "['S', '1', '4', '5', 'T']\n",
      "['S', '1', '2', '5', '6', '1', '2', '5', 'T']\n",
      "['S', '1', '2', '5', '6', '1', '3', '5', 'T']\n",
      "['S', '1', '2', '5', '6', '1', '4', '5', 'T']\n",
      "['S', '1', '4', '5', '6', '1', '2', '5', 'T']\n",
      "['S', '1', '4', '5', '6', '1', '3', '5', 'T']\n",
      "['S', '1', '3', '5', '6', '1', '2', '5', 'T']\n",
      "['S', '1', '3', '5', '6', '1', '4', '5', 'T']\n",
      "['S', '1', '2', '5', '6', '1', '3', '5', 'T']\n",
      "['S', '1', '2', '5', '6', '1', '4', '5', 'T']\n",
      "\n",
      "max_number_of_simple_paths_in_single_test_case=3\n",
      "['S', '1', '2', '5', 'T']\n",
      "['S', '1', '2', '5', '6', '1', '2', '5', 'T']\n",
      "['S', '1', '3', '5', 'T']\n",
      "['S', '1', '4', '5', 'T']\n",
      "['S', '1', '4', '5', '6', '1', '2', '5', 'T']\n",
      "['S', '1', '2', '5', '6', '1', '4', '5', 'T']\n",
      "['S', '1', '4', '5', '6', '1', '3', '5', '6', '1', '2', '5', '6', '1', '3', '5', '6', '1', '4', '5', 'T']\n",
      "['S', '1', '2', '5', '6', '1', '3', '5', '6', '1', '2', '5', '6', '1', '4', '5', 'T']\n"
     ]
    }
   ],
   "source": [
    "from testing_criterions.SimplePathsCoverage import SimplePathsCoverage\n",
    "\n",
    "simple_path = SimplePathsCoverage(digraph_manager)\n",
    "\n",
    "print(\"max_number_of_simple_paths_in_single_test_case=1\")\n",
    "for test_case in simple_path.get_test_cases(max_number_of_simple_paths_in_single_test_case=1):\n",
    "   print(test_case)\n",
    "\n",
    "print()\n",
    "print(\"max_number_of_simple_paths_in_single_test_case=3\")\n",
    "for test_case in simple_path.get_test_cases(max_number_of_simple_paths_in_single_test_case=3):\n",
    "   print(test_case)"
   ]
  },
  {
   "cell_type": "code",
   "execution_count": 7,
   "id": "041b4d44",
   "metadata": {},
   "outputs": [
    {
     "name": "stdout",
     "output_type": "stream",
     "text": [
      "['S', '1', '2', '5', '6', '1', '2', '5', '6', '1', '2', '5', 'T']\n",
      "['S', '1', '3', '5', '6', '1', '3', '5', '6', '1', '2', '5', 'T']\n",
      "['S', '1', '4', '5', '6', '1', '4', '5', '6', '1', '2', '5', 'T']\n",
      "['S', '1', '2', '5', '6', '1', '2', '5', 'T']\n",
      "['S', '1', '2', '5', 'T']\n",
      "['S', '1', '3', '5', '6', '1', '2', '5', 'T']\n",
      "['S', '1', '3', '5', 'T']\n",
      "['S', '1', '4', '5', '6', '1', '2', '5', 'T']\n",
      "['S', '1', '4', '5', 'T']\n",
      "['S', '1', '2', '5', '6', '1', '2', '5', 'T']\n",
      "['S', '1', '2', '5', '6', '1', '3', '5', 'T']\n",
      "['S', '1', '2', '5', '6', '1', '4', '5', 'T']\n",
      "['S', '1', '4', '5', '6', '1', '2', '5', 'T']\n",
      "['S', '1', '4', '5', '6', '1', '3', '5', 'T']\n",
      "['S', '1', '3', '5', '6', '1', '2', '5', 'T']\n",
      "['S', '1', '3', '5', '6', '1', '4', '5', 'T']\n",
      "['S', '1', '2', '5', '6', '1', '3', '5', 'T']\n",
      "['S', '1', '2', '5', '6', '1', '4', '5', 'T']\n"
     ]
    }
   ],
   "source": [
    "from testing_criterions.PrimePathCoverage import PrimePathCoverage\n",
    "prime_path = PrimePathCoverage(digraph_manager)\n",
    "\n",
    "for test_case in prime_path.get_test_cases(1):\n",
    "   print(test_case)\n"
   ]
  },
  {
   "cell_type": "code",
   "execution_count": 13,
   "id": "b30dc922",
   "metadata": {},
   "outputs": [
    {
     "name": "stdout",
     "output_type": "stream",
     "text": [
      "['S', '1', '4', '5', '6', '1', '2', '5', 'T']\n",
      "['S', '1', '4', '5', '6', '1', '3', '5', 'T']\n",
      "['S', '1', '4', '5', 'T']\n",
      "['S', '1', '2', '5', '6', '1', '3', '5', 'T']\n",
      "['S', '1', '2', '5', '6', '1', '4', '5', 'T']\n",
      "['S', '1', '2', '5', 'T']\n",
      "['S', '1', '3', '5', 'T']\n",
      "['S', '1', '3', '5', '6', '1', '2', '5', 'T']\n",
      "['S', '1', '3', '5', '6', '1', '4', '5', 'T']\n"
     ]
    }
   ],
   "source": [
    "from testing_criterions.NPathCoverage import NPathCoverage\n",
    "\n",
    "n_paths = NPathCoverage(digraph_manager, n_paths=2)\n",
    "\n",
    "for test_case in n_paths.get_test_cases(max_number_of_n_paths_in_single_test_case=1):\n",
    "   print(test_case)"
   ]
  }
 ],
 "metadata": {
  "kernelspec": {
   "display_name": "Diblob",
   "language": "python",
   "name": "python3"
  },
  "language_info": {
   "codemirror_mode": {
    "name": "ipython",
    "version": 3
   },
   "file_extension": ".py",
   "mimetype": "text/x-python",
   "name": "python",
   "nbconvert_exporter": "python",
   "pygments_lexer": "ipython3",
   "version": "3.10.13"
  }
 },
 "nbformat": 4,
 "nbformat_minor": 5
}
