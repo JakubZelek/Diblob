{
 "cells": [
  {
   "cell_type": "code",
   "execution_count": 4,
   "metadata": {},
   "outputs": [
    {
     "name": "stdout",
     "output_type": "stream",
     "text": [
      "{\n",
      "\"C1\": {\n",
      "    \"1\": [\"7\"],\n",
      "    \"2\": [\"1\"],\n",
      "    \"5\": [\"6\"],\n",
      "    \"6\": [\"2\"],\n",
      "    \"7\": [\"5\"],\n",
      "},\n",
      "}\n"
     ]
    }
   ],
   "source": [
    "import diblob as dib\n",
    "\n",
    "#Creates random 5-cycle over delivered node space, then remove isolated nodes\n",
    "random_cycle = dib.RandomCycle(node_space=['1', '2', '3', '4', '5', '6', '7'], \n",
    "                                 cycle_size=5, \n",
    "                                 random_diblob_id='C1')\n",
    "\n",
    "random_cycle.remove_isolated_nodes()\n",
    "dib.display_digraph(random_cycle.digraph_manager('C1'))"
   ]
  },
  {
   "cell_type": "code",
   "execution_count": 8,
   "metadata": {},
   "outputs": [
    {
     "name": "stdout",
     "output_type": "stream",
     "text": [
      "{\n",
      "\"SSC\": {\n",
      "    \"9`\": [\"6`\"],\n",
      "    \"4`\": [\"9`\", \"8`\", \"1`\"],\n",
      "    \"8`\": [\"6`\", \"5`\", \"1`\"],\n",
      "    \"10`\": [\"2`\", \"5`\"],\n",
      "    \"3`\": [\"8`\", \"2`\", \"4`\"],\n",
      "    \"5`\": [\"3`\", \"4`\", \"1`\", \"2`\"],\n",
      "    \"1`\": [\"7`\", \"2`\", \"5`\", \"3`\"],\n",
      "    \"7`\": [\"2`\", \"6`\"],\n",
      "    \"2`\": [\"4`\", \"8`\", \"5`\", \"7`\", \"10`\"],\n",
      "    \"6`\": [\"4`\", \"10`\", \"3`\"],\n",
      "},\n",
      "}\n"
     ]
    }
   ],
   "source": [
    "#Creates random strongly connected digraph over delivered node space as a sum of 6 cycles.\n",
    "random_scc = dib.RandomSCC(node_space = ['1`', '2`', '3`', '4`', '5`', '6`', '7`', '8`', '9`', '10`'], \n",
    "                               cycle_sizes=[3, 6, 7, 4, 2, 9], random_diblob_id='SSC')\n",
    "random_scc.remove_isolated_nodes()\n",
    "dib.display_digraph(random_scc.digraph_manager('SSC'))"
   ]
  },
  {
   "cell_type": "code",
   "execution_count": 9,
   "metadata": {},
   "outputs": [
    {
     "name": "stdout",
     "output_type": "stream",
     "text": [
      "28 10\n",
      "{\n",
      "\"DAG\": {\n",
      "    \"2``\": [],\n",
      "    \"4``\": [],\n",
      "    \"8``\": [\"4``\", \"6``\", \"2``\"],\n",
      "    \"7``\": [\"3``\", \"1``\", \"8``\"],\n",
      "    \"1``\": [],\n",
      "    \"3``\": [\"8``\", \"5``\"],\n",
      "    \"6``\": [],\n",
      "    \"5``\": [\"4``\", \"8``\"],\n",
      "},\n",
      "}\n"
     ]
    }
   ],
   "source": [
    "#Creates Random DAG\n",
    "random_dag = dib.RandomDAG(node_space = ['1``', '2``', '3``', '4``', '5``', '6``', '7``', '8``'],\n",
    "                           number_of_edges=10, random_diblob_id='DAG')\n",
    "random_dag.remove_isolated_nodes()\n",
    "dib.display_digraph(random_dag.digraph_manager('DAG'))"
   ]
  },
  {
   "cell_type": "code",
   "execution_count": 10,
   "metadata": {},
   "outputs": [
    {
     "name": "stdout",
     "output_type": "stream",
     "text": [
      "{\n",
      "\"DAG\": {\n",
      "    \"2``\": [],\n",
      "    \"4``\": [],\n",
      "    \"8``\": [\"4``\", \"6``\", \"2``\"],\n",
      "    \"7``\": [\"1``\", \"8``\", \"4`\", \"10`\", \"3`\", \"1`\", \"7`\", \"6`\"],\n",
      "    \"9`\": [\"6`\", \"8``\", \"5\"],\n",
      "    \"8`\": [\"6`\", \"5`\", \"1`\", \"8``\", \"6\"],\n",
      "    \"1\": [\"7\", \"4``\"],\n",
      "    \"5\": [\"6\", \"4``\"],\n",
      "    \"3`\": [\"8`\", \"2`\", \"4`\", \"6\"],\n",
      "    \"5`\": [\"3`\", \"4`\", \"1`\", \"2`\", \"8``\", \"6\"],\n",
      "    \"1`\": [\"7`\", \"2`\", \"5`\", \"3`\", \"5\", \"6\"],\n",
      "    \"6``\": [],\n",
      "    \"7`\": [\"2`\", \"6`\", \"8``\", \"5\", \"6\"],\n",
      "    \"7\": [\"5\", \"4``\", \"8``\"],\n",
      "    \"2`\": [\"4`\", \"8`\", \"5`\", \"7`\", \"10`\", \"6\"],\n",
      "    \"6`\": [\"4`\", \"10`\", \"3`\", \"8``\", \"6\"],\n",
      "    \"4`\": [\"9`\", \"8`\", \"1`\", \"8``\"],\n",
      "    \"2\": [\"1\"],\n",
      "    \"1``\": [],\n",
      "    \"6\": [\"2\", \"4``\", \"8``\"],\n",
      "    \"10`\": [\"2`\", \"5`\", \"5\", \"6\"],\n",
      "},\n",
      "}\n"
     ]
    }
   ],
   "source": [
    "#Combine created graphs to create random graph\n",
    "random_graph = dib.RandomDigraph(dag_digraph=random_dag,\n",
    "                               inj_digraphs=[random_cycle, random_scc],\n",
    "                               injection_drop_probability=0.5)\n",
    "random_graph.remove_isolated_nodes()\n",
    "dib.display_digraph(random_graph.digraph_manager('DAG'))"
   ]
  },
  {
   "cell_type": "code",
   "execution_count": null,
   "metadata": {},
   "outputs": [],
   "source": []
  }
 ],
 "metadata": {
  "kernelspec": {
   "display_name": "Diblob",
   "language": "python",
   "name": "python3"
  },
  "language_info": {
   "codemirror_mode": {
    "name": "ipython",
    "version": 3
   },
   "file_extension": ".py",
   "mimetype": "text/x-python",
   "name": "python",
   "nbconvert_exporter": "python",
   "pygments_lexer": "ipython3",
   "version": "3.10.13"
  }
 },
 "nbformat": 4,
 "nbformat_minor": 2
}
