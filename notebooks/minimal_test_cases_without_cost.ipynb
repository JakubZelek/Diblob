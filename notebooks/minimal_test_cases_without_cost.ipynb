{
 "cells": [
  {
   "cell_type": "code",
   "execution_count": 1,
   "metadata": {},
   "outputs": [],
   "source": [
    "from testing_criterions import CPTDigraphManager\n",
    "from diblob import DigraphManager\n",
    "import re\n",
    "\n",
    "def extract_test_cases(test_cases, delimiter = ',', source='s', sink='t'):\n",
    "    test_cases_string = ','.join([elem[0] for elem in test_cases])\n",
    "    test_cases = test_cases_string.split(f'{sink},{source}')\n",
    "    test_cases = [f\"{source},{test_case.replace(source, '').replace(sink, '')[1:-1]},{sink}\".replace(',', delimiter) \n",
    "                  for test_case in test_cases]\n",
    "    return test_cases\n",
    "\n",
    "def extract_k_test_cases(test_cases, delimiter = ',', source='s', sink='t', k=1):\n",
    "    test_cases_string = ','.join([elem[0] for elem in test_cases]) + f\",{source}\"\n",
    "    delimiters = \"\".join([f\"{sink},{sink}{source}{number},{source}|\" for number in range(k)])\n",
    "\n",
    "    test_cases = re.split(delimiters[:-1], test_cases_string)\n",
    "    test_cases = [test_case for test_case in test_cases if test_case]\n",
    "    test_cases = [f\"{source},{test_case.replace(source, '').replace(sink, '')[1:-1]},{sink}\".replace(',', delimiter) \n",
    "                  for test_case in test_cases]\n",
    "    return test_cases"
   ]
  },
  {
   "cell_type": "code",
   "execution_count": 3,
   "metadata": {},
   "outputs": [],
   "source": [
    "# wariant 5:  minimalny sumaryczny koszt, liczba testow dowolna\n",
    "\n",
    "def minimal_test_cost(digraph_manager, source='s', sink='t', cost={}):\n",
    "\n",
    "    if source in digraph_manager or sink in digraph_manager:\n",
    "        raise Exception('sink/source should be unique over digraph namespace!')\n",
    "    \n",
    "    dict_json_representation = dict(digraph_manager(digraph_manager.root_diblob_id))\n",
    "    cpt = CPTDigraphManager(dict_json_representation, cost_function={})\n",
    "\n",
    "\n",
    "    minimal_elements, maximal_elements = cpt.get_edge_elements()\n",
    "    \n",
    "    cpt.add_nodes(source, sink)\n",
    "\n",
    "    minimal_edges = [(source, node_id) for node_id in minimal_elements]\n",
    "    maximal_edges = [(node_id, sink) for node_id in maximal_elements]\n",
    "    \n",
    "    if not minimal_edges or not maximal_edges:\n",
    "        raise Exception('Should be at leas minimal/maximal element in the diblob!')\n",
    "    \n",
    "    new_edges = minimal_edges + maximal_edges + [(sink, source)]\n",
    "\n",
    "    cpt.connect_nodes(*new_edges)\n",
    "\n",
    "    weight = len(cpt.nodes) * (len(cpt.nodes) + 1) / 2\n",
    "    cost_function_update_dict = {edge_id: weight*cost.get(edge_id, 1) for edge_id in cpt.edges}\n",
    "    cost_function_update_dict[(sink, source)] = 1\n",
    "\n",
    "    cpt.update_cost_function(cost_function_update_dict)\n",
    "    return cpt.compute_cpt(start_node=source)\n",
    "\n"
   ]
  },
  {
   "cell_type": "code",
   "execution_count": 4,
   "metadata": {},
   "outputs": [
    {
     "name": "stdout",
     "output_type": "stream",
     "text": [
      "['S|B|C|E|G|T', 'S|A|C|D|G|T', 'S|A|C|D|I|T', 'S|A|C|F|H|T', 'S|A|C|E|H|T']\n"
     ]
    }
   ],
   "source": [
    "cpt_digraph_manager = DigraphManager({\"B0\": {}})\n",
    "cpt_digraph_manager.add_nodes('A', 'B', 'C', 'D', 'E', 'F', 'G', 'H', 'I')\n",
    "cpt_digraph_manager.connect_nodes(('A', 'C'), ('B', 'C'), ('C', 'D'), ('C', 'E'), ('C', 'F'),\n",
    "                       ('D', 'I'), ('D', 'G'), ('E', 'G'), ('E', 'H'), ('F', 'H'))\n",
    "\n",
    "test_cases, cost = minimal_test_cost(cpt_digraph_manager, source='S', sink='T')\n",
    "print(extract_test_cases(test_cases, delimiter='|', source='S', sink='T'))"
   ]
  },
  {
   "cell_type": "code",
   "execution_count": 5,
   "metadata": {},
   "outputs": [],
   "source": [
    "# wariant 1:  minimalna mozliwa liczba przypadkow testowych, kosztnie brany pod uwage\n",
    "# ten sam kod co powyzej, zmieniona tylko waga (#TODO uwspólnic i dekorator)\n",
    "def minimal_number_of_test_cases(digraph_manager, source='s', sink='t'):\n",
    "\n",
    "    if source in digraph_manager or sink in digraph_manager:\n",
    "        raise Exception('sink/source should be unique over digraph namespace!')\n",
    "    \n",
    "    dict_json_representation = dict(digraph_manager(digraph_manager.root_diblob_id))\n",
    "    cpt = CPTDigraphManager(dict_json_representation, cost_function={})\n",
    "\n",
    "    minimal_elements, maximal_elements = cpt.get_edge_elements()\n",
    "    \n",
    "    cpt.add_nodes(source, sink)\n",
    "\n",
    "    minimal_edges = [(source, node_id) for node_id in minimal_elements]\n",
    "    maximal_edges = [(node_id, sink) for node_id in maximal_elements]\n",
    "    \n",
    "    if not minimal_edges or not maximal_edges:\n",
    "        raise Exception('Should be at leas minimal/maximal element in the diblob!')\n",
    "    \n",
    "    new_edges = minimal_edges + maximal_edges + [(sink, source)]\n",
    "\n",
    "    cpt.connect_nodes(*new_edges)\n",
    "\n",
    "    weight = len(cpt.nodes) * (len(cpt.nodes) + 1) / 2\n",
    "    cost_function_update_dict = {edge_id: weight for edge_id in cpt.edges}\n",
    "    cost_function_update_dict[(sink, source)] = weight ** 3\n",
    "\n",
    "    cpt.update_cost_function(cost_function_update_dict)\n",
    "    return cpt.compute_cpt(start_node=source)\n"
   ]
  },
  {
   "cell_type": "code",
   "execution_count": 6,
   "metadata": {},
   "outputs": [
    {
     "name": "stdout",
     "output_type": "stream",
     "text": [
      "['S|A|B|C|F|B|E|F|B|D|F|G|T']\n",
      "['S|A|B|C|F|G|T', 'S|A|B|E|F|B|D|F|G|T']\n"
     ]
    }
   ],
   "source": [
    "cpt2_digraph_manager = DigraphManager({\"B0\": {}})\n",
    "cpt2_digraph_manager.add_nodes('A', 'B', 'C', 'D', 'E', 'F', 'G')\n",
    "cpt2_digraph_manager.connect_nodes(('A', 'B'), ('B', 'C'), ('B', 'D'), ('B', 'E'), ('C', 'F'),\n",
    "                       ('D', 'F'), ('E', 'F'), ('F', 'B'), ('F', 'G'))\n",
    "\n",
    "test_cases, _ = minimal_number_of_test_cases(cpt2_digraph_manager, source='S', sink='T')\n",
    "print(extract_test_cases(test_cases, delimiter='|', source='S', sink='T'))\n",
    "\n",
    "test_cases, _ = minimal_test_cost(cpt2_digraph_manager, source='S', sink='T', cost={('F', 'B'): 20})\n",
    "print(extract_test_cases(test_cases, delimiter='|', source='S', sink='T'))"
   ]
  },
  {
   "cell_type": "code",
   "execution_count": 7,
   "metadata": {},
   "outputs": [],
   "source": [
    "# wariant 4:  ustalona z gory liczba przypadkow testowych, minimalizacja kosztu calkowitego\n",
    "def k_test_cases(digraph_manager, k = 1, source='s', sink='t'):\n",
    "\n",
    "    if source in digraph_manager or sink in digraph_manager:\n",
    "        raise Exception('sink/source should be unique over digraph namespace!')\n",
    "    \n",
    "    dict_json_representation = dict(digraph_manager(digraph_manager.root_diblob_id))\n",
    "    cpt = CPTDigraphManager(dict_json_representation, cost_function={})\n",
    "\n",
    "    minimal_elements, maximal_elements = cpt.get_edge_elements()\n",
    "    \n",
    "    nodes_to_add = [sink + source + str(number) for number in range(k)] + [sink, source]\n",
    "    cpt.add_nodes(*nodes_to_add)\n",
    "\n",
    "    minimal_edges = [(source, node_id) for node_id in minimal_elements]\n",
    "    maximal_edges = [(node_id, sink) for node_id in maximal_elements]\n",
    "    \n",
    "    if not minimal_edges or not maximal_edges:\n",
    "        raise Exception('Should be at least minimal/maximal element in the diblob!')\n",
    "    \n",
    "    sink_source_edges = [(sink, sink + source + str(number)) for number in range(k)] +\\\n",
    "                        [(sink + source + str(number), source) for number in range(k)]\n",
    "    \n",
    "    new_edges = minimal_edges + maximal_edges + sink_source_edges\n",
    "    cpt.connect_nodes(*new_edges)\n",
    "\n",
    "    print(cpt)\n",
    "    weight = len(cpt.nodes) * (len(cpt.nodes) + 1) / 2\n",
    "    cost_function_update_dict = {edge_id: weight for edge_id in cpt.edges}\n",
    "\n",
    "    for number in range(k):\n",
    "        cost_function_update_dict[(sink, sink + source + str(number))] = 1\n",
    "        cost_function_update_dict[(sink + source + str(number), source)] = 1\n",
    "\n",
    "    #cpt.update_cost_function(cost_function_update_dict)\n",
    "    return cpt.compute_cpt(start_node=source)"
   ]
  },
  {
   "cell_type": "code",
   "execution_count": 9,
   "metadata": {},
   "outputs": [
    {
     "name": "stdout",
     "output_type": "stream",
     "text": [
      "{\n",
      "\"B0\": {\n",
      "    \"F\": [\"B\", \"G\"],\n",
      "    \"A\": [\"B\"],\n",
      "    \"B\": [\"C\", \"D\", \"E\"],\n",
      "    \"E\": [\"F\"],\n",
      "    \"TS2\": [\"S\"],\n",
      "    \"S\": [\"A\"],\n",
      "    \"D\": [\"F\"],\n",
      "    \"C\": [\"F\"],\n",
      "    \"TS4\": [\"S\"],\n",
      "    \"T\": [\"TS0\", \"TS1\", \"TS2\", \"TS3\", \"TS4\"],\n",
      "    \"TS3\": [\"S\"],\n",
      "    \"TS0\": [\"S\"],\n",
      "    \"TS1\": [\"S\"],\n",
      "    \"G\": [\"T\"],\n",
      "},\n",
      "}\n",
      "\n",
      "['S|A|B|C|F|G|T', 'S|A|B|D|F|G|T', 'S|A|B|D|F|G|T', 'S|A|B|D|F|G|T', 'S|A|B|E|F|B|D|F|G|T']\n"
     ]
    }
   ],
   "source": [
    "cpt3_digraph_manager = DigraphManager({\"B0\": {}})\n",
    "cpt3_digraph_manager.add_nodes('A', 'B', 'C', 'D', 'E', 'F', 'G')\n",
    "cpt3_digraph_manager.connect_nodes(('A', 'B'), ('B', 'C'), ('B', 'D'), ('B', 'E'), ('C', 'F'),\n",
    "                       ('D', 'F'), ('E', 'F'), ('F', 'B'), ('F', 'G'))\n",
    "\n",
    "test_cases, _ = k_test_cases(cpt3_digraph_manager, source='S', sink='T', k=5)\n",
    "print(extract_k_test_cases(test_cases, delimiter='|', source='S', sink='T', k=5))\n",
    "\n"
   ]
  }
 ],
 "metadata": {
  "kernelspec": {
   "display_name": "Diblob",
   "language": "python",
   "name": "python3"
  },
  "language_info": {
   "codemirror_mode": {
    "name": "ipython",
    "version": 3
   },
   "file_extension": ".py",
   "mimetype": "text/x-python",
   "name": "python",
   "nbconvert_exporter": "python",
   "pygments_lexer": "ipython3",
   "version": "3.10.13"
  }
 },
 "nbformat": 4,
 "nbformat_minor": 2
}
