{
 "cells": [
  {
   "cell_type": "code",
   "execution_count": 64,
   "metadata": {},
   "outputs": [],
   "source": [
    "from testing_criterions import CPTDigraphManager\n",
    "from diblob import DigraphManager\n",
    "\n",
    "\n",
    "def minimal_test_cases_without_cost(digraph_manager, source='s', sink='t'):\n",
    "\n",
    "    if source in digraph_manager or sink in digraph_manager:\n",
    "        raise Exception('sink/source should be unique over digraph namespace!')\n",
    "    \n",
    "    dict_json_representation = dict(digraph_manager(digraph_manager.root_diblob_id))\n",
    "    cpt = CPTDigraphManager(dict_json_representation, cost_function={})\n",
    "\n",
    "\n",
    "    minimal_elements, maximal_elements = cpt.get_edge_elements()\n",
    "    \n",
    "    cpt.add_nodes(source, sink)\n",
    "\n",
    "    minimal_edges = [(source, node_id) for node_id in minimal_elements]\n",
    "    maximal_edges = [(node_id, sink) for node_id in maximal_elements]\n",
    "    \n",
    "    if not minimal_edges or not maximal_edges:\n",
    "        raise Exception('Should be at leas minimal/maximal element in the diblob!')\n",
    "    \n",
    "    new_edges = minimal_edges + maximal_edges + [(sink, source)]\n",
    "\n",
    "    cpt.connect_nodes(*new_edges)\n",
    "\n",
    "    weight = len(cpt.nodes) * (len(cpt.nodes) + 1) / 2\n",
    "    cost_function_update_dict = {edge_id: weight for edge_id in cpt.edges}\n",
    "    cost_function_update_dict[(sink, source)] = 1\n",
    "\n",
    "    cpt.update_cost_function(cost_function_update_dict)\n",
    "    return cpt.compute_cpt(start_node=source)\n",
    "\n",
    "\n",
    "def extract_test_cases(test_cases, delimiter = ',', source='s', sink='t'):\n",
    "    test_cases_string = ','.join([elem[0] for elem in test_cases])\n",
    "    test_cases = test_cases_string.split(f'{sink},{source}')\n",
    "    test_cases = [f\"{source},{test_case.replace(source, '').replace(sink, '')[1:-1]},{sink}\".replace(',', delimiter) \n",
    "                  for test_case in test_cases]\n",
    "    return test_cases\n",
    "    "
   ]
  },
  {
   "cell_type": "code",
   "execution_count": 65,
   "metadata": {},
   "outputs": [],
   "source": [
    "cpt_digraph_manager = DigraphManager({\"B0\": {}})\n",
    "cpt_digraph_manager.add_nodes('A', 'B', 'C', 'D', 'E', 'F', 'G', 'H', 'I')\n",
    "cpt_digraph_manager.connect_nodes(('A', 'C'), ('B', 'C'), ('C', 'D'), ('C', 'E'), ('C', 'F'),\n",
    "                       ('D', 'I'), ('D', 'G'), ('E', 'G'), ('E', 'H'), ('F', 'H'))\n",
    "\n",
    "test_cases, cost = minimal_test_cases_without_cost(cpt_digraph_manager, source='S', sink='T')"
   ]
  },
  {
   "cell_type": "code",
   "execution_count": 66,
   "metadata": {},
   "outputs": [
    {
     "name": "stdout",
     "output_type": "stream",
     "text": [
      "['S|B|C|F|H|T', 'S|A|C|D|G|T', 'S|A|C|E|H|T', 'S|A|C|E|G|T', 'S|A|C|D|I|T']\n"
     ]
    }
   ],
   "source": [
    "print(extract_test_cases(test_cases, delimiter='|', source='S', sink='T'))"
   ]
  }
 ],
 "metadata": {
  "kernelspec": {
   "display_name": "Diblob",
   "language": "python",
   "name": "python3"
  },
  "language_info": {
   "codemirror_mode": {
    "name": "ipython",
    "version": 3
   },
   "file_extension": ".py",
   "mimetype": "text/x-python",
   "name": "python",
   "nbconvert_exporter": "python",
   "pygments_lexer": "ipython3",
   "version": "3.10.13"
  }
 },
 "nbformat": 4,
 "nbformat_minor": 2
}
