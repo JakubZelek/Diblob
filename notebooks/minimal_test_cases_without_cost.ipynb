{
 "cells": [
  {
   "cell_type": "code",
   "execution_count": 14,
   "metadata": {},
   "outputs": [],
   "source": [
    "from testing_criterions import CPTDigraphManager\n",
    "from diblob import DigraphManager\n",
    "import re\n",
    "\n",
    "\n",
    "def extract_k_test_cases(test_cases, delimiter = ',', source='S', sink='T', k=1):\n",
    "\n",
    "    test_cases_string = ','.join([elem[0] for elem in test_cases]) + f\",{source}\"\n",
    "    delimiters = \"\".join([f\"{sink},{sink}{source}{number},{source}|\" for number in range(k)])\n",
    "\n",
    "    test_cases = re.split(delimiters[:-1], test_cases_string)\n",
    "    test_cases = [test_case for test_case in test_cases if test_case]\n",
    "    test_cases = [f\"{source},{test_case.replace(source, '').replace(sink, '')[1:-1]},{sink}\".replace(',', delimiter) \n",
    "                  for test_case in test_cases]\n",
    "    return test_cases"
   ]
  },
  {
   "cell_type": "code",
   "execution_count": 33,
   "metadata": {},
   "outputs": [],
   "source": [
    "def generate_test_cases(digraph_manager, \n",
    "                        source='S', \n",
    "                        sink='T', \n",
    "                        cost_function={}, \n",
    "                        additional_edge_cost=2, \n",
    "                        default_cost=1,\n",
    "                        k=1, \n",
    "                        delimiter=','):\n",
    "    \n",
    "    if source in digraph_manager or sink in digraph_manager:\n",
    "        raise Exception('sink/source should be unique over digraph namespace!')\n",
    "    \n",
    "    dict_json_representation = dict(digraph_manager(digraph_manager.root_diblob_id))\n",
    "    cpt = CPTDigraphManager(dict_json_representation, cost_function={})\n",
    "\n",
    "    minimal_elements, maximal_elements = cpt.get_edge_elements()\n",
    "    \n",
    "    nodes_to_add = [sink + source + str(number) for number in range(k)] + [sink, source]\n",
    "    cpt.add_nodes(*nodes_to_add)\n",
    "\n",
    "    minimal_edges = [(source, node_id) for node_id in minimal_elements]\n",
    "    maximal_edges = [(node_id, sink) for node_id in maximal_elements]\n",
    "    \n",
    "    if not minimal_edges or not maximal_edges:\n",
    "        raise Exception('Should be at least minimal/maximal element in the diblob!')\n",
    "    \n",
    "    sink_source_edges = [(sink, sink + source + str(number)) for number in range(k)] +\\\n",
    "                        [(sink + source + str(number), source) for number in range(k)]\n",
    "    \n",
    "    new_edges = minimal_edges + maximal_edges + sink_source_edges\n",
    "    cpt.connect_nodes(*new_edges)\n",
    "\n",
    "    cost_function_update_dict = {edge_id: cost_function.get(edge_id, 1)*default_cost\n",
    "                                 for edge_id in cpt.edges}\n",
    "\n",
    "    for number in range(k):\n",
    "        cost_function_update_dict[(sink, sink + source + str(number))] = additional_edge_cost - 1\n",
    "        cost_function_update_dict[(sink + source + str(number), source)] = 1\n",
    "\n",
    "    cpt.update_cost_function(cost_function_update_dict)\n",
    "\n",
    "    cpt, cost = cpt.compute_cpt(start_node=source)\n",
    "    return extract_k_test_cases(cpt, delimiter, source, sink, k), cost\n"
   ]
  },
  {
   "cell_type": "code",
   "execution_count": 34,
   "metadata": {},
   "outputs": [
    {
     "name": "stdout",
     "output_type": "stream",
     "text": [
      "Case 5: Minimal total cost (any number of test cases)\n",
      "test_cases=['S,B,C,E,G,T', 'S,A,C,D,G,T', 'S,A,C,D,I,T', 'S,A,C,F,H,T', 'S,A,C,E,H,T']\n",
      "cost=1135.0\n",
      "\n"
     ]
    }
   ],
   "source": [
    "cpt_digraph_manager = DigraphManager({\"B0\": {}})\n",
    "cpt_digraph_manager.add_nodes('A', 'B', 'C', 'D', 'E', 'F', 'G', 'H', 'I')\n",
    "cpt_digraph_manager.connect_nodes(('A', 'C'), ('B', 'C'), ('C', 'D'), ('C', 'E'), ('C', 'F'),\n",
    "                       ('D', 'I'), ('D', 'G'), ('E', 'G'), ('E', 'H'), ('F', 'H'))\n",
    "                       \n",
    "\n",
    "# Case 5\n",
    "number_of_nodes = len(cpt_digraph_manager.nodes)\n",
    "weight = number_of_nodes * (number_of_nodes + 1) / 2\n",
    "\n",
    "test_cases, cost = generate_test_cases(digraph_manager=cpt_digraph_manager,\n",
    "                                       default_cost=weight)\n",
    "print(\"Case 5: Minimal total cost (any number of test cases)\")\n",
    "print(f\"{test_cases=}\")\n",
    "print(f\"{cost=}\\n\")"
   ]
  },
  {
   "cell_type": "code",
   "execution_count": 36,
   "metadata": {},
   "outputs": [
    {
     "name": "stdout",
     "output_type": "stream",
     "text": [
      "Case 1: Minimal total number of test cases (without cost)\n",
      "test_cases=['S,A,B,C,F,B,E,F,B,D,F,G,T']\n",
      "cost=91665.0\n",
      "\n",
      "Case 5: Minimal total cost (any number of test cases)\n",
      "test_cases=['S,A,B,C,F,G,T', 'S,A,B,E,F,B,D,F,G,T']\n",
      "cost=1534.0\n",
      "\n"
     ]
    }
   ],
   "source": [
    "cpt2_digraph_manager = DigraphManager({\"B0\": {}})\n",
    "cpt2_digraph_manager.add_nodes('A', 'B', 'C', 'D', 'E', 'F', 'G')\n",
    "cpt2_digraph_manager.connect_nodes(('A', 'B'), ('B', 'C'), ('B', 'D'), ('B', 'E'), ('C', 'F'),\n",
    "                       ('D', 'F'), ('E', 'F'), ('F', 'B'), ('F', 'G'))\n",
    "\n",
    "# Case 1\n",
    "weight = number_of_nodes * (number_of_nodes + 1) / 2\n",
    "\n",
    "test_cases, cost = generate_test_cases(digraph_manager=cpt2_digraph_manager,\n",
    "                                       default_cost=weight,\n",
    "                                       additional_edge_cost=weight**3)\n",
    "print(\"Case 1: Minimal total number of test cases (without cost)\")\n",
    "print(f\"{test_cases=}\")\n",
    "print(f\"{cost=}\\n\")\n",
    "\n",
    "test_cases, cost = generate_test_cases(digraph_manager=cpt2_digraph_manager,\n",
    "                                       default_cost=weight,\n",
    "                                       cost_function={('F', 'B'): 20})\n",
    "print(\"Case 5: Minimal total cost (any number of test cases)\")\n",
    "print(f\"{test_cases=}\")\n",
    "print(f\"{cost=}\\n\")"
   ]
  },
  {
   "cell_type": "code",
   "execution_count": 39,
   "metadata": {},
   "outputs": [
    {
     "name": "stdout",
     "output_type": "stream",
     "text": [
      "Case 4: Set number of test cases\n",
      "test_cases=['S,A,B,C,F,G,T', 'S,A,B,D,F,G,T', 'S,A,B,D,F,G,T', 'S,A,B,D,F,G,T', 'S,A,B,E,F,B,D,F,G,T']\n",
      "cost=52110.0\n",
      "\n"
     ]
    }
   ],
   "source": [
    "\n",
    "cpt3_digraph_manager = DigraphManager({\"B0\": {}})\n",
    "cpt3_digraph_manager.add_nodes('A', 'B', 'C', 'D', 'E', 'F', 'G')\n",
    "cpt3_digraph_manager.connect_nodes(('A', 'B'), ('B', 'C'), ('B', 'D'), ('B', 'E'), ('C', 'F'),\n",
    "                       ('D', 'F'), ('E', 'F'), ('F', 'G'))\n",
    "\n",
    "# Case 3\n",
    "K=5\n",
    "test_cases, cost = generate_test_cases(digraph_manager=cpt2_digraph_manager,\n",
    "                                       default_cost=weight,\n",
    "                                       additional_edge_cost=weight**2*K,\n",
    "                                       k=K)\n",
    "\n",
    "print(\"Case 4: Set number of test cases\")\n",
    "print(f\"{test_cases=}\")\n",
    "print(f\"{cost=}\\n\")"
   ]
  }
 ],
 "metadata": {
  "kernelspec": {
   "display_name": "Diblob",
   "language": "python",
   "name": "python3"
  },
  "language_info": {
   "codemirror_mode": {
    "name": "ipython",
    "version": 3
   },
   "file_extension": ".py",
   "mimetype": "text/x-python",
   "name": "python",
   "nbconvert_exporter": "python",
   "pygments_lexer": "ipython3",
   "version": "3.10.13"
  }
 },
 "nbformat": 4,
 "nbformat_minor": 2
}
